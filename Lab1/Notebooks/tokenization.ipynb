{
 "cells": [
  {
   "cell_type": "code",
   "execution_count": 6,
   "id": "064668e0",
   "metadata": {},
   "outputs": [
    {
     "name": "stdout",
     "output_type": "stream",
     "text": [
      "Ex1: ['Nepal', '’', 's', 'Home', 'Minister', 'Ramesh', 'Lekhak', 'resigned', 'Monday', 'following', 'the', 'violence', ',', 'Communications', 'Minister', 'Prithvi', 'Subba', 'confirmed', 'to', 'reporters', 'late', 'Monday', '.']\n",
      "Ex2: ['Nepal', 'Home Minister Ramesh Lekhak', 'Monday', 'Communications Minister Prithvi Subba', 'Monday']\n",
      "Ex3a: ['The', 'Indian', 'At', '17', 'Kathmandu', 'Itahari']\n",
      "Ex3b: ['Dự', '84.477', 'đồng', '21.000', 'Số', '2,21', '2,18', '49,66', '1']\n"
     ]
    }
   ],
   "source": [
    "import re\n",
    "\n",
    "# Ex1\n",
    "def tokenize_ex1(text: str):\n",
    "    return re.findall(r\"\\w+|[^\\w\\s]\", text)\n",
    "\n",
    "# Ex2\n",
    "def extract_capital_phrases(text: str):\n",
    "    pattern = r\"(?:[A-Z][a-z]+(?:\\s+[A-Z][a-z]+)*)\"\n",
    "    return re.findall(pattern, text)\n",
    "\n",
    "def extract_caps_and_numbers(text: str):\n",
    "    pattern = r\"\\b[A-ZÀ-ỸĐ][a-zà-ỹđ]*\\b|\\b\\d+(?:[.,]\\d+)*%?\\b\"\n",
    "    return re.findall(pattern, text)\n",
    "\n",
    "\n",
    "# ---- TEST ----\n",
    "ex1_in = \"Nepal’s Home Minister Ramesh Lekhak resigned Monday following the violence, Communications Minister Prithvi Subba confirmed to reporters late Monday.\"\n",
    "print(\"Ex1:\", tokenize_ex1(ex1_in))\n",
    "\n",
    "ex2_in = \"Nepal’s Home Minister Ramesh Lekhak resigned Monday following the violence, Communications Minister Prithvi Subba confirmed to reporters late Monday.\"\n",
    "print(\"Ex2:\", extract_capital_phrases(ex2_in))\n",
    "\n",
    "ex3_in1 = 'The police are firing indiscriminately,” one protester told Indian news agency ANI. At least 17 people were killed in Kathmandu and two more in the eastern city of Itahari, according to hospital officials.'\n",
    "print(\"Ex3a:\", extract_caps_and_numbers(ex3_in1))\n",
    "\n",
    "ex3_in2 = \"Dự kiến, số thu ngân sách từ thuế thu nhập cá nhân còn khoảng 84.477 tỷ đồng, giảm 21.000 tỷ mỗi năm so với hiện hành. Số người còn phải nộp thuế là 2,21 triệu người, giảm 2,18 triệu người (49,66%) do chuyển từ bậc 1 sang diện không chịu thuế.\"\n",
    "print(\"Ex3b:\", extract_caps_and_numbers(ex3_in2))\n"
   ]
  }
 ],
 "metadata": {
  "kernelspec": {
   "display_name": "venv",
   "language": "python",
   "name": "python3"
  },
  "language_info": {
   "codemirror_mode": {
    "name": "ipython",
    "version": 3
   },
   "file_extension": ".py",
   "mimetype": "text/x-python",
   "name": "python",
   "nbconvert_exporter": "python",
   "pygments_lexer": "ipython3",
   "version": "3.9.8"
  }
 },
 "nbformat": 4,
 "nbformat_minor": 5
}
